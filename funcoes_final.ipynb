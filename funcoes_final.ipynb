{
 "cells": [
  {
   "cell_type": "code",
   "execution_count": 4,
   "id": "c4b12a9c",
   "metadata": {},
   "outputs": [],
   "source": [
    "import datetime as dt\n",
    "import classe_Lojas\n",
    "import classe_Clientes\n",
    "import math"
   ]
  },
  {
   "cell_type": "code",
   "execution_count": 5,
   "id": "c568d658",
   "metadata": {},
   "outputs": [],
   "source": [
    "#Inserindo lojas e quantidades de bicicletas\n",
    "loja_1 = classe_Lojas.Lojas('Rent a Bike', 20)\n",
    "loja_2 = classe_Lojas.Lojas('Duas Rodas', 25)\n",
    "loja_3 = classe_Lojas.Lojas('Pedala Felicidade ', 5)\n",
    "\n",
    "#cliente_1 = classe_Clientes.cliente('Anderson', 40)\n",
    "#cliente_2 = classe_Clientes.cliente('Daniele', 36)\n",
    "#cliente_3 = classe_Clientes.cliente('Lorena', 6)\n",
    "#cliente_4 = classe_Clientes.cliente('Rebeca', 4)"
   ]
  },
  {
   "cell_type": "code",
   "execution_count": null,
   "id": "ea87f4ac",
   "metadata": {},
   "outputs": [],
   "source": [
    "#print(cliente_1.__dict__)"
   ]
  },
  {
   "cell_type": "code",
   "execution_count": 6,
   "id": "acb8ab1e",
   "metadata": {},
   "outputs": [],
   "source": [
    "aluguel_loja_01 = []\n",
    "aluguel_loja_02 = []\n",
    "aluguel_loja_03 = []"
   ]
  },
  {
   "cell_type": "code",
   "execution_count": 7,
   "id": "ce80c8e3",
   "metadata": {},
   "outputs": [
    {
     "name": "stdout",
     "output_type": "stream",
     "text": [
      "[]\n",
      "[]\n",
      "[]\n"
     ]
    }
   ],
   "source": [
    "print(aluguel_loja_01)\n",
    "print(aluguel_loja_02)\n",
    "print(aluguel_loja_03)"
   ]
  },
  {
   "cell_type": "code",
   "execution_count": 8,
   "id": "c8fba5c1",
   "metadata": {},
   "outputs": [],
   "source": [
    "def bicletas_disponiveis():\n",
    "    print(loja_1.__dict__)\n",
    "    print(loja_2.__dict__)\n",
    "    print(loja_3.__dict__)"
   ]
  },
  {
   "cell_type": "code",
   "execution_count": 9,
   "id": "0ac0f57a",
   "metadata": {},
   "outputs": [
    {
     "name": "stdout",
     "output_type": "stream",
     "text": [
      "{'nome_loja': 'Rent a Bike', 'qtd_bicicletas': 20}\n",
      "{'nome_loja': 'Duas Rodas', 'qtd_bicicletas': 25}\n",
      "{'nome_loja': 'Pedala Felicidade ', 'qtd_bicicletas': 5}\n",
      "None\n"
     ]
    }
   ],
   "source": [
    "ver_dispo = bicletas_disponiveis\n",
    "print(ver_dispo())"
   ]
  },
  {
   "cell_type": "code",
   "execution_count": 14,
   "id": "1c91a89e",
   "metadata": {},
   "outputs": [],
   "source": [
    "def mostrar_estoque():\n",
    "    loja = input('Qual loja (1,2,3): ')\n",
    "    aux = 0\n",
    "    if loja == '1':\n",
    "        aux = (loja_1.__dict__)\n",
    "    elif loja == '2':\n",
    "        aux = (loja_2.__dict__)\n",
    "    elif loja == '3':\n",
    "        aux = (loja_3.__dict__)\n",
    "    else:\n",
    "        aux = ('Valor deve ser: 1,2 ou 3')\n",
    "    return aux"
   ]
  },
  {
   "cell_type": "code",
   "execution_count": 15,
   "id": "4f7e6eff",
   "metadata": {},
   "outputs": [
    {
     "name": "stdout",
     "output_type": "stream",
     "text": [
      "Qual loja (1,2,3): 1\n",
      "{'nome_loja': 'Rent a Bike', 'qtd_bicicletas': 20}\n"
     ]
    }
   ],
   "source": [
    "mostrar_est = mostrar_estoque\n",
    "print (mostrar_est())"
   ]
  },
  {
   "cell_type": "code",
   "execution_count": 16,
   "id": "5ca0bacb",
   "metadata": {},
   "outputs": [],
   "source": [
    "def nome_idade():\n",
    "        nome = input('Qual o nome do Cliente: ')\n",
    "        idade = int(input('Qual a idade do Cliente: '))\n",
    "        return {'nome':nome, 'idade':idade}"
   ]
  },
  {
   "cell_type": "code",
   "execution_count": 17,
   "id": "5498ec7b",
   "metadata": {},
   "outputs": [],
   "source": [
    "def alugar_bike():\n",
    "    \n",
    "    cliente = nome_idade()\n",
    "    loja = input('Qual loja (1,2,3): ')\n",
    "    tipo_aluguel = input('Quer alugar por: Hora-H , Dia-D, Semana-S: ')\n",
    "    numero_bikes = int(input('Quantas Bicletas quer alugar: '))\n",
    "    retirada = dt.datetime(2022,10,10,10,0)\n",
    "    \n",
    "    promocao = input(\"Aluguel de 3 ou mais bicicletas (S/N):\").upper()\n",
    "    dic_aux = {'cliente': cliente,'retirada': retirada, 'tipo':tipo_aluguel, 'quantidade': numero_bikes, 'promocao':promocao }\n",
    "    if loja == '1':\n",
    "        if numero_bikes <= loja_1.qtd_bicicletas:\n",
    "            aluguel_loja_01.append(dic_aux)\n",
    "            loja_1.qtd_bicicletas -= numero_bikes\n",
    "            print('Bike alugada')\n",
    "        else:\n",
    "            print('Loja esta sem estoque no momento')\n",
    "    elif loja == '2':\n",
    "        if numero_bikes <= loja_2.qtd_bicicletas:\n",
    "            aluguel_loja_02.append(dic_aux)\n",
    "            loja_2.qtd_bicicletas -= numero_bikes \n",
    "            print('Bike alugada')\n",
    "        else:\n",
    "            print('Loja esta sem estoque no momento')\n",
    "    elif loja == '3':\n",
    "        if numero_bikes <= loja_3.qtd_bicicletas:\n",
    "            aluguel_loja_03.append(dic_aux)\n",
    "            loja_3.qtd_bicicletas -= numero_bikes \n",
    "            print('Bike alugada')\n",
    "        else:\n",
    "            print('Loja esta sem estoque no momento')\n",
    "    \n",
    "    "
   ]
  },
  {
   "cell_type": "code",
   "execution_count": 18,
   "id": "73346ec7",
   "metadata": {},
   "outputs": [
    {
     "name": "stdout",
     "output_type": "stream",
     "text": [
      "Qual o nome do Cliente: Anderson\n",
      "Qual a idade do Cliente: 40\n",
      "Qual loja (1,2,3): 1\n",
      "Quer alugar por: Hora-H , Dia-D, Semana-S: H\n",
      "Quantas Bicletas quer alugar: 2\n",
      "Aluguel de 3 ou mais bicicletas (S/N):N\n",
      "Bike alugada\n",
      "None\n"
     ]
    }
   ],
   "source": [
    "alugar = alugar_bike\n",
    "print(alugar())"
   ]
  },
  {
   "cell_type": "code",
   "execution_count": 19,
   "id": "6e9cf22d",
   "metadata": {},
   "outputs": [
    {
     "name": "stdout",
     "output_type": "stream",
     "text": [
      "[]\n"
     ]
    }
   ],
   "source": [
    "print(aluguel_loja_03)"
   ]
  },
  {
   "cell_type": "code",
   "execution_count": 20,
   "id": "161fd19b",
   "metadata": {},
   "outputs": [],
   "source": [
    "def busca_cliente():\n",
    "    nome = input('Pessoa que alugou: ')\n",
    "    indice = 0\n",
    "    loja = aluguel_loja_03 # \n",
    "    for i in range (len(loja)):\n",
    "        if nome in loja: #== nome:\n",
    "            indice = i\n",
    "    return indice\n",
    "    "
   ]
  },
  {
   "cell_type": "code",
   "execution_count": 21,
   "id": "84832a22",
   "metadata": {},
   "outputs": [],
   "source": [
    "def selecao_loja():\n",
    "    loja = input('Qual loja (1,2,3): ')\n",
    "    aux = 0\n",
    "    if loja == '1':\n",
    "        aux = aluguel_loja_01\n",
    "        print(aluguel_loja_01)\n",
    "    elif loja == '2':\n",
    "        aux = aluguel_loja_02\n",
    "        print(aluguel_loja_02)\n",
    "    elif loja == '3':\n",
    "        aux = aluguel_loja_03\n",
    "        print(aluguel_loja_03)\n",
    "    else:\n",
    "        aux = ('Valor deve ser 1,2 ou 3')\n",
    "    return aux"
   ]
  },
  {
   "cell_type": "code",
   "execution_count": 22,
   "id": "492eb961",
   "metadata": {},
   "outputs": [],
   "source": [
    "def valor_pagar():\n",
    "    loja = selecao_loja()\n",
    "    indice = busca_cliente()\n",
    "    retirada = loja[indice]['retirada']\n",
    "    entrega = input('Bicicleta entregue(ano,mes,dia,hora,minuto): ').split(',')\n",
    "    entrega = dt.datetime(int(entrega[0]), int(entrega[1]), int(entrega[2]), int(entrega[3]), int(entrega[4]))\n",
    "    #entrega = dt.datetime(2022,10,10,11,0)\n",
    "    tipo_aluguel_aux = loja[0]['tipo']\n",
    "    tipo_aluguel = 1\n",
    "    if tipo_aluguel_aux == 'H':\n",
    "        tipo_aluguel = 5\n",
    "    elif tipo_aluguel_aux == 'D':\n",
    "        tipo_aluguel = 25\n",
    "    elif tipo_aluguel_aux == 'S':\n",
    "        tipo_aluguel = 100\n",
    "        \n",
    "    familia = 1\n",
    "    if loja[0]['promocao'] == 'S':\n",
    "        familia = 0.7\n",
    "    tempo_uso = entrega - retirada\n",
    "    tempo_uso = tempo_uso.seconds / 3600\n",
    "    valor = tempo_uso * tipo_aluguel*familia*loja[0]['quantidade']\n",
    "    return(f'Valor a pagar R${valor}')\n"
   ]
  },
  {
   "cell_type": "code",
   "execution_count": 23,
   "id": "e0a737fe",
   "metadata": {},
   "outputs": [
    {
     "name": "stdout",
     "output_type": "stream",
     "text": [
      "Loja 1[{'cliente': {'nome': 'Anderson', 'idade': 40}, 'retirada': datetime.datetime(2022, 10, 10, 10, 0), 'tipo': 'H', 'quantidade': 2, 'promocao': 'N'}]\n",
      "Loja 2[]\n",
      "Loja 3[]\n",
      "Qual loja (1,2,3): 1\n",
      "[{'cliente': {'nome': 'Anderson', 'idade': 40}, 'retirada': datetime.datetime(2022, 10, 10, 10, 0), 'tipo': 'H', 'quantidade': 2, 'promocao': 'N'}]\n",
      "Pessoa que alugou: Anderson\n",
      "Bicicleta entregue(ano,mes,dia,hora,minuto): 2022,10,10,10,10\n",
      "Valor a pagar R$1.6666666666666665\n"
     ]
    }
   ],
   "source": [
    "print(f'Loja 1{aluguel_loja_01}')\n",
    "print(f'Loja 2{aluguel_loja_02}')\n",
    "print(f'Loja 3{aluguel_loja_03}')\n",
    "teste = valor_pagar\n",
    "print(teste())"
   ]
  },
  {
   "cell_type": "code",
   "execution_count": null,
   "id": "e09dcad4",
   "metadata": {},
   "outputs": [],
   "source": [
    "\n",
    "\n"
   ]
  },
  {
   "cell_type": "code",
   "execution_count": null,
   "id": "f4bd86c7",
   "metadata": {},
   "outputs": [],
   "source": []
  },
  {
   "cell_type": "code",
   "execution_count": null,
   "id": "7dd0d018",
   "metadata": {},
   "outputs": [],
   "source": []
  },
  {
   "cell_type": "code",
   "execution_count": null,
   "id": "b23b31d4",
   "metadata": {},
   "outputs": [],
   "source": []
  },
  {
   "cell_type": "code",
   "execution_count": null,
   "id": "674395aa",
   "metadata": {},
   "outputs": [],
   "source": []
  },
  {
   "cell_type": "code",
   "execution_count": null,
   "id": "e5524265",
   "metadata": {},
   "outputs": [],
   "source": []
  },
  {
   "cell_type": "code",
   "execution_count": null,
   "id": "ea9f3947",
   "metadata": {},
   "outputs": [],
   "source": []
  },
  {
   "cell_type": "code",
   "execution_count": null,
   "id": "45e85fb8",
   "metadata": {},
   "outputs": [],
   "source": []
  },
  {
   "cell_type": "code",
   "execution_count": null,
   "id": "d24e6653",
   "metadata": {},
   "outputs": [],
   "source": []
  },
  {
   "cell_type": "code",
   "execution_count": null,
   "id": "a9ebcd49",
   "metadata": {},
   "outputs": [],
   "source": []
  },
  {
   "cell_type": "code",
   "execution_count": null,
   "id": "a8b525b1",
   "metadata": {},
   "outputs": [],
   "source": []
  },
  {
   "cell_type": "code",
   "execution_count": null,
   "id": "c5cba6d6",
   "metadata": {},
   "outputs": [],
   "source": []
  },
  {
   "cell_type": "code",
   "execution_count": null,
   "id": "e5e448da",
   "metadata": {},
   "outputs": [],
   "source": []
  },
  {
   "cell_type": "code",
   "execution_count": null,
   "id": "cfe9aa3e",
   "metadata": {},
   "outputs": [],
   "source": []
  }
 ],
 "metadata": {
  "kernelspec": {
   "display_name": "Python 3 (ipykernel)",
   "language": "python",
   "name": "python3"
  },
  "language_info": {
   "codemirror_mode": {
    "name": "ipython",
    "version": 3
   },
   "file_extension": ".py",
   "mimetype": "text/x-python",
   "name": "python",
   "nbconvert_exporter": "python",
   "pygments_lexer": "ipython3",
   "version": "3.9.7"
  }
 },
 "nbformat": 4,
 "nbformat_minor": 5
}
